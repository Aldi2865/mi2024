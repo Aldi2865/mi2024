{
 "cells": [
  {
   "cell_type": "markdown",
   "id": "9eec3ca7",
   "metadata": {},
   "source": [
    "# Оцінка точності та налаштування гіперпараметрів моделі"
   ]
  },
  {
   "cell_type": "markdown",
   "id": "3832c80d",
   "metadata": {},
   "source": [
    "### 1. Методи оцінки точності моделі"
   ]
  },
  {
   "cell_type": "code",
   "execution_count": null,
   "id": "983ed904",
   "metadata": {},
   "outputs": [],
   "source": [
    "%pip install scikit-learn pandas"
   ]
  },
  {
   "cell_type": "code",
   "execution_count": 14,
   "id": "9e68067f",
   "metadata": {},
   "outputs": [
    {
     "name": "stdout",
     "output_type": "stream",
     "text": [
      "   sepal length (cm)  sepal width (cm)  petal length (cm)  petal width (cm)  \\\n",
      "0                5.1               3.5                1.4               0.2   \n",
      "1                4.9               3.0                1.4               0.2   \n",
      "2                4.7               3.2                1.3               0.2   \n",
      "3                4.6               3.1                1.5               0.2   \n",
      "4                5.0               3.6                1.4               0.2   \n",
      "\n",
      "  species  \n",
      "0  setosa  \n",
      "1  setosa  \n",
      "2  setosa  \n",
      "3  setosa  \n",
      "4  setosa  \n"
     ]
    }
   ],
   "source": [
    "\n",
    "# Імпорт необхідних бібліотек\n",
    "import pandas as pd\n",
    "from sklearn.model_selection import train_test_split, cross_val_score, GridSearchCV\n",
    "from sklearn.ensemble import RandomForestClassifier\n",
    "from sklearn.metrics import accuracy_score, classification_report\n",
    "\n",
    "from sklearn import datasets\n",
    "\n",
    "\n",
    "# Завантаження набору даних Iris\n",
    "iris = datasets.load_iris()\n",
    "\n",
    "# Перетворення даних у формат DataFrame для зручності роботи\n",
    "iris_df = pd.DataFrame(\n",
    "    data=iris.data,\n",
    "    columns=iris.feature_names\n",
    ")\n",
    "\n",
    "# Додавання колонок з мітками класів\n",
    "iris_df['species'] = iris.target\n",
    "iris_df['species'] = iris_df['species'].map({0: 'setosa', 1: 'versicolor', 2: 'virginica'})\n",
    "\n",
    "# Виведення кількох перших рядків для перевірки\n",
    "print(iris_df.head())\n"
   ]
  },
  {
   "cell_type": "markdown",
   "id": "4a92ea25",
   "metadata": {},
   "source": [
    "Результат\n",
    "Набір даних iris містить:\n",
    "\n",
    "Вхідні ознаки (features):\n",
    "Довжина чашолистка (sepal length)\n",
    "Ширина чашолистка (sepal width)\n",
    "Довжина пелюстки (petal length)\n",
    "Ширина пелюстки (petal width)\n",
    "Цільову змінну (target): Класи квітів:\n",
    "0 - Setosa\n",
    "1 - Versicolor\n",
    "2 - Virginica\n",
    "Це готовий набір, який добре підходить для задач класифікації. Ви можете з ним працювати без необхідності створювати власні локальні набори даних."
   ]
  },
  {
   "cell_type": "code",
   "execution_count": 16,
   "id": "30a02976",
   "metadata": {},
   "outputs": [
    {
     "name": "stdout",
     "output_type": "stream",
     "text": [
      "Base Accuracy: 1.0\n",
      "Classification Report:               precision    recall  f1-score   support\n",
      "\n",
      "      setosa       1.00      1.00      1.00        10\n",
      "  versicolor       1.00      1.00      1.00         9\n",
      "   virginica       1.00      1.00      1.00        11\n",
      "\n",
      "    accuracy                           1.00        30\n",
      "   macro avg       1.00      1.00      1.00        30\n",
      "weighted avg       1.00      1.00      1.00        30\n",
      "\n",
      "Cross-Validation Accuracy: 0.9533333333333334\n"
     ]
    }
   ],
   "source": [
    "\n",
    "\n",
    "data = iris_df\n",
    "\n",
    "# Підготовка даних\n",
    "X = data.drop('species', axis=1)\n",
    "y = data['species']\n",
    "\n",
    "# Розділення на тренувальні та тестові вибірки\n",
    "X_train, X_test, y_train, y_test = train_test_split(X, y, test_size=0.2, random_state=42)\n",
    "\n",
    "# Побудова базової моделі\n",
    "model = RandomForestClassifier(random_state=42)\n",
    "model.fit(X_train, y_train)\n",
    "\n",
    "# Оцінка точності базової моделі\n",
    "y_pred = model.predict(X_test)\n",
    "base_accuracy = accuracy_score(y_test, y_pred)\n",
    "classification_rep = classification_report(y_test, y_pred, zero_division=0)\n",
    "print(\"Base Accuracy:\", base_accuracy)\n",
    "print(\"Classification Report:\", classification_rep)\n",
    "\n",
    "# Перехресна перевірка\n",
    "cv_scores = cross_val_score(model, X, y, cv=2)\n",
    "cv_accuracy = cv_scores.mean()\n",
    "print(\"Cross-Validation Accuracy:\", cv_accuracy)\n"
   ]
  },
  {
   "cell_type": "markdown",
   "id": "8312f082",
   "metadata": {},
   "source": [
    "### 2. Методи налаштування гіперпараметрів моделі"
   ]
  },
  {
   "cell_type": "code",
   "execution_count": 17,
   "id": "a9e61037",
   "metadata": {},
   "outputs": [
    {
     "name": "stdout",
     "output_type": "stream",
     "text": [
      "Best Parameters: {'max_depth': None, 'min_samples_split': 2, 'n_estimators': 10}\n",
      "Optimized Accuracy: 1.0\n"
     ]
    }
   ],
   "source": [
    "\n",
    "# Налаштування гіперпараметрів\n",
    "param_grid = {\n",
    "    'n_estimators': [10, 50],\n",
    "    'max_depth': [None, 10],\n",
    "    'min_samples_split': [2, 5]\n",
    "}\n",
    "\n",
    "grid_search = GridSearchCV(estimator=RandomForestClassifier(random_state=42),\n",
    "                           param_grid=param_grid, cv=2, scoring='accuracy')\n",
    "\n",
    "grid_search.fit(X_train, y_train)\n",
    "\n",
    "# Найкращі параметри та модель\n",
    "best_params = grid_search.best_params_\n",
    "best_model = grid_search.best_estimator_\n",
    "\n",
    "# Оцінка моделі з оптимальними параметрами\n",
    "y_pred_optimized = best_model.predict(X_test)\n",
    "optimized_accuracy = accuracy_score(y_test, y_pred_optimized)\n",
    "print(\"Best Parameters:\", best_params)\n",
    "print(\"Optimized Accuracy:\", optimized_accuracy)\n"
   ]
  }
 ],
 "metadata": {
  "kernelspec": {
   "display_name": ".venv",
   "language": "python",
   "name": "python3"
  },
  "language_info": {
   "codemirror_mode": {
    "name": "ipython",
    "version": 3
   },
   "file_extension": ".py",
   "mimetype": "text/x-python",
   "name": "python",
   "nbconvert_exporter": "python",
   "pygments_lexer": "ipython3",
   "version": "3.12.3"
  }
 },
 "nbformat": 4,
 "nbformat_minor": 5
}
